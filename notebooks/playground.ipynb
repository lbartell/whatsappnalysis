{
 "cells": [
  {
   "cell_type": "code",
   "execution_count": null,
   "metadata": {},
   "outputs": [],
   "source": [
    "# imports\n",
    "import seaborn as sns\n",
    "import pandas as pd\n",
    "import matplotlib.pyplot as plt\n",
    "import numpy as np\n",
    "\n",
    "from src.dataset import ChatDataset\n",
    "from src.config import PIPELINE_CONFIG\n",
    "from src.nodes.add_features import schema"
   ]
  },
  {
   "cell_type": "code",
   "execution_count": null,
   "metadata": {},
   "outputs": [],
   "source": [
    "# Load data\n",
    "dataset = ChatDataset(schema).load_from_parquet(PIPELINE_CONFIG.features_chat_parquet_path)\n",
    "data = dataset.data"
   ]
  },
  {
   "cell_type": "code",
   "execution_count": null,
   "metadata": {},
   "outputs": [],
   "source": [
    "# create categoricals\n",
    "authors = data[schema.columns.AUTHOR.name].unique()\n",
    "data[schema.columns.AUTHOR.name] = pd.Categorical(\n",
    "    data[schema.columns.AUTHOR.name],\n",
    "    categories=authors\n",
    ")"
   ]
  },
  {
   "cell_type": "code",
   "execution_count": null,
   "metadata": {},
   "outputs": [],
   "source": [
    "data.describe()"
   ]
  },
  {
   "cell_type": "code",
   "execution_count": null,
   "metadata": {},
   "outputs": [],
   "source": [
    "for author, author_data in data.groupby(schema.columns.AUTHOR.name):\n",
    "    print(author)\n",
    "    print(author_data.describe())\n",
    "    print(\"\\n\")"
   ]
  },
  {
   "cell_type": "code",
   "execution_count": null,
   "metadata": {},
   "outputs": [],
   "source": [
    "print(data.dtypes)"
   ]
  },
  {
   "cell_type": "code",
   "execution_count": null,
   "metadata": {},
   "outputs": [],
   "source": [
    "# Resample data\n",
    "rolled_data_list = []\n",
    "for author, author_data in data.groupby(schema.columns.AUTHOR.name):\n",
    "    rolled_author_data = author_data.resample(\n",
    "        \"1H\",\n",
    "        on=schema.columns.TIMESTAMP.name,\n",
    "    ).mean()\n",
    "    rolled_author_data[schema.columns.AUTHOR.name] = author\n",
    "    rolled_author_data.reset_index(inplace=True)\n",
    "    rolled_data_list.append(rolled_author_data)\n",
    "    \n",
    "rolled_data = pd.concat(rolled_data_list)\n",
    "# rolled_data.set_index([schema.columns.TIMESTAMP.name, schema.columns.AUTHOR.name], inplace=True)\n",
    "rolled_data.head()"
   ]
  },
  {
   "cell_type": "code",
   "execution_count": null,
   "metadata": {},
   "outputs": [],
   "source": [
    "# Polarity by author\n",
    "sns.lineplot(\n",
    "    data=rolled_data,\n",
    "    x=schema.columns.TIMESTAMP.name,\n",
    "    y=schema.columns.OVERALL_POLARITY.name,\n",
    "    hue=schema.columns.AUTHOR.name\n",
    ")\n",
    "plt.xticks(rotation=45)\n",
    "\n",
    "plt.show()"
   ]
  },
  {
   "cell_type": "code",
   "execution_count": null,
   "metadata": {},
   "outputs": [],
   "source": [
    "sns.pairplot(\n",
    "    data=rolled_data,\n",
    "    hue=schema.columns.AUTHOR.name\n",
    ")\n",
    "\n",
    "plt.show()"
   ]
  },
  {
   "cell_type": "code",
   "execution_count": null,
   "metadata": {},
   "outputs": [],
   "source": [
    "# polarity correlation\n",
    "author_data = rolled_data.pivot(\n",
    "    columns=[schema.columns.AUTHOR.name]\n",
    ")\n",
    "\n",
    "\n",
    "authors = data[schema.columns.AUTHOR.name].cat.categories\n",
    "sns.scatterplot(\n",
    "    data=author_data[schema.columns.OVERALL_POLARITY.name],\n",
    "    x=authors[0],\n",
    "    y=authors[1]\n",
    ")\n",
    "R = author_data[schema.columns.OVERALL_POLARITY.name].corr().iloc[0,1]\n",
    "plt.title(f\"Overall sentiment\\nR: {R:0.3f}\")\n",
    "plt.show()\n"
   ]
  },
  {
   "cell_type": "code",
   "execution_count": null,
   "metadata": {},
   "outputs": [],
   "source": [
    "# Very low/high polarity examples\n",
    "for author in authors:\n",
    "\n",
    "    author_data = data[\n",
    "        data[schema.columns.AUTHOR.name] == author\n",
    "    ]\n",
    "    sorted_author_data = author_data.sort_values(by=schema.columns.OVERALL_POLARITY.name)\n",
    "    \n",
    "    most_positive_message = sorted_author_data.iloc[-1][schema.columns.MESSAGE.name]\n",
    "    most_negative_message = sorted_author_data.iloc[0][schema.columns.MESSAGE.name]\n",
    "    \n",
    "    print(f\"Author: {author}\")\n",
    "    print(f\"**Positive message:\\n{most_positive_message}\\n\\n\")\n",
    "    print(f\"**Negative message:\\n{most_negative_message}\\n\\n\")\n",
    "    print(\"\\n\\n\")"
   ]
  },
  {
   "cell_type": "code",
   "execution_count": null,
   "metadata": {},
   "outputs": [],
   "source": [
    "# Resample data\n",
    "rolled_data_list = []\n",
    "for author, author_data in data.groupby(schema.columns.AUTHOR.name):\n",
    "    rolled_author_data = author_data.resample(\n",
    "        \"1H\",\n",
    "        on=schema.columns.TIMESTAMP.name,\n",
    "    ).sum()\n",
    "    rolled_author_data[schema.columns.AUTHOR.name] = author\n",
    "    rolled_author_data.reset_index(inplace=True)\n",
    "    rolled_data_list.append(rolled_author_data)\n",
    "    \n",
    "rolled_data = pd.concat(rolled_data_list)\n",
    "rolled_data.head()\n",
    "# Word count over time\n",
    "sns.lineplot(\n",
    "    data=rolled_data,\n",
    "    x=schema.columns.TIMESTAMP.name,\n",
    "    y=schema.columns.WORD_COUNT.name,\n",
    "    hue=schema.columns.AUTHOR.name\n",
    ")\n",
    "plt.xticks(rotation=45)\n",
    "\n",
    "plt.show()"
   ]
  },
  {
   "cell_type": "code",
   "execution_count": null,
   "metadata": {},
   "outputs": [],
   "source": []
  }
 ],
 "metadata": {
  "kernelspec": {
   "display_name": "Python 3",
   "language": "python",
   "name": "python3"
  },
  "language_info": {
   "codemirror_mode": {
    "name": "ipython",
    "version": 3
   },
   "file_extension": ".py",
   "mimetype": "text/x-python",
   "name": "python",
   "nbconvert_exporter": "python",
   "pygments_lexer": "ipython3",
   "version": "3.7.7"
  }
 },
 "nbformat": 4,
 "nbformat_minor": 4
}
